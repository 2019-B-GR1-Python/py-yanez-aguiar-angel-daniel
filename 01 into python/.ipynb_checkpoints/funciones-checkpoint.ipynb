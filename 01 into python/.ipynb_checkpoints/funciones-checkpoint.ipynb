{
 "cells": [
  {
   "cell_type": "code",
   "execution_count": 1,
   "metadata": {},
   "outputs": [
    {
     "name": "stdout",
     "output_type": "stream",
     "text": [
      "Hola Angel\n"
     ]
    }
   ],
   "source": [
    "def hola_mundo(): # None\n",
    "    print(\"Hola Angel\")\n",
    "hola_mundo()"
   ]
  },
  {
   "cell_type": "code",
   "execution_count": 3,
   "metadata": {},
   "outputs": [
    {
     "name": "stdout",
     "output_type": "stream",
     "text": [
      "suma 3\n"
     ]
    }
   ],
   "source": [
    "def sumar_dos_numeros(num_uno, num_dos): #argumentos requeridos\n",
    "    return num_uno + num_dos\n",
    "suma = sumar_dos_numeros(1,2)\n",
    "print(f\"suma {suma}\")"
   ]
  },
  {
   "cell_type": "code",
   "execution_count": 7,
   "metadata": {},
   "outputs": [
    {
     "name": "stdout",
     "output_type": "stream",
     "text": [
      "EPN\n",
      "PUCE\n"
     ]
    }
   ],
   "source": [
    "def imprimir_universidad(nombre = 'EPN'):\n",
    "    print(f\"{nombre}\")\n",
    "imprimir_universidad()\n",
    "imprimir_universidad('PUCE')"
   ]
  },
  {
   "cell_type": "code",
   "execution_count": 14,
   "metadata": {},
   "outputs": [
    {
     "name": "stdout",
     "output_type": "stream",
     "text": [
      "color: blanco\n",
      "placa: IJQ-0234\n",
      "caballos de fuerza: 200\n",
      "año: 2011\n",
      "color: Amazul\n",
      "placa: DEF-1234\n",
      "caballos de fuerza: 3500\n",
      "año: 2005\n",
      "color: cafe\n",
      "placa: MNS-4345\n",
      "caballos de fuerza: 3500\n",
      "año: 2003\n",
      "color: cafe\n",
      "placa: MNS-4345\n",
      "caballos de fuerza: 3500\n",
      "año: 1999\n",
      "color: cafe\n",
      "placa: MNS-4345\n",
      "caballos de fuerza: 3500\n",
      "año: 2005\n"
     ]
    }
   ],
   "source": [
    "def imprimir_carro(color, placa, hp, anio = 1999):\n",
    "    print(f\"color: {color}\")\n",
    "    print(f\"placa: {placa}\")\n",
    "    print(f\"caballos de fuerza: {hp}\")\n",
    "    print(f\"año: {anio}\")\n",
    "imprimir_carro(\"blanco\",\"IJQ-0234\",200,2011)\n",
    "imprimir_carro(anio = 2005, color = \"Amazul\", placa =\"DEF-1234\", hp = 3500)\n",
    "#parametros nombrados\n",
    "#parametros por posicion\n",
    "imprimir_carro(\"cafe\",\"MNS-4345\",anio = 2003,hp = 3500)\n",
    "imprimir_carro(\"cafe\",\"MNS-4345\",hp = 3500)\n",
    "imprimir_carro(\"cafe\",anio = 2005, placa = \"MNS-4345\",hp = 3500)\n",
    "#Reglas\n",
    "#1) Parametros requeridos 1ro, luego los opcionales\n",
    "#2) Enviar Siempre parametros requeridos\n",
    "#3) Si ya se envia un parametro nombrado, los parametros restantes\n",
    "#   deben ser nombrados"
   ]
  },
  {
   "cell_type": "code",
   "execution_count": 27,
   "metadata": {},
   "outputs": [
    {
     "data": {
      "text/plain": [
       "6"
      ]
     },
     "execution_count": 27,
     "metadata": {},
     "output_type": "execute_result"
    }
   ],
   "source": [
    "def sumar_numeros(primer_numero,*numeros): #parametros infinitos\n",
    "    longitud = len(numeros)\n",
    "    if(longitud == 0):\n",
    "        return primer_numero\n",
    "    else:\n",
    "        suma = primer_numero\n",
    "        for numero in numeros:\n",
    "            suma = suma + numero\n",
    "        return suma\n",
    "sumar_numeros(1,2,3)\n"
   ]
  },
  {
   "cell_type": "code",
   "execution_count": 37,
   "metadata": {},
   "outputs": [
    {
     "name": "stdout",
     "output_type": "stream",
     "text": [
      "<class 'dict'>\n",
      "{'tiempo_espera': 10, 'tiempo_de_carga': 15, 'autor': 'Angel'}\n"
     ]
    }
   ],
   "source": [
    "def imprimir_configuracion(nombre,valor = 10,**key_word_arguments):\n",
    "    #key word arguments\n",
    "    #kwargs\n",
    "    print(type(key_word_arguments))\n",
    "    print(key_word_arguments)\n",
    "imprimir_configuracion(nombre = \"config_1\",valor = 20, tiempo_espera = 10, tiempo_de_carga = 15, autor = \"Angel\")"
   ]
  }
 ],
 "metadata": {
  "kernelspec": {
   "display_name": "Python 3",
   "language": "python",
   "name": "python3"
  },
  "language_info": {
   "codemirror_mode": {
    "name": "ipython",
    "version": 3
   },
   "file_extension": ".py",
   "mimetype": "text/x-python",
   "name": "python",
   "nbconvert_exporter": "python",
   "pygments_lexer": "ipython3",
   "version": "3.7.3"
  }
 },
 "nbformat": 4,
 "nbformat_minor": 2
}
