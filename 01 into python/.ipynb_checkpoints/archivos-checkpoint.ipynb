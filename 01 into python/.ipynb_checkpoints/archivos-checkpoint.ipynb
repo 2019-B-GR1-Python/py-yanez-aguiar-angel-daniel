{
 "cells": [
  {
   "cell_type": "code",
   "execution_count": 10,
   "metadata": {},
   "outputs": [
    {
     "name": "stdout",
     "output_type": "stream",
     "text": [
      "['Buenos dias\\n', 'Buenas tardes\\n', 'Buenas noches\\n', 'Buenas madrugadas\\n', 'ABC\\n', 'DEF\\n']\n",
      "<class 'list'>\n",
      "Buenos dias\n",
      "\n",
      "Buenas tardes\n",
      "\n",
      "Buenas noches\n",
      "\n",
      "Buenas madrugadas\n",
      "\n",
      "ABC\n",
      "\n",
      "DEF\n",
      "\n"
     ]
    }
   ],
   "source": [
    "try:\n",
    "    path = \"./frases.txt\"\n",
    "    archivo_abierto = open(path)\n",
    "    \"\"\"\n",
    "    linea_uno = archivo_abierto.readline()\n",
    "    print(f\"L1: {linea_uno}\")\n",
    "    linea_dos = archivo_abierto.readline()\n",
    "    print(f\"L2: {linea_dos}\")\n",
    "    linea_tres = archivo_abierto.readline()\n",
    "    print(type(linea_tres))\n",
    "    print(f\"L3: {linea_tres}\")\n",
    "    linea_cuatro = archivo_abierto.readline()\n",
    "    print(f\"L4: {linea_cuatro}\")\n",
    "    \"\"\"\n",
    "    contenido = archivo_abierto.readlines()\n",
    "    print(contenido)\n",
    "    print(type(contenido))\n",
    "    for linea in contenido:\n",
    "        print(linea)\n",
    "    archivo_abierto.close()\n",
    "except Exception as error:\n",
    "    print(\"error\")"
   ]
  },
  {
   "cell_type": "code",
   "execution_count": 9,
   "metadata": {},
   "outputs": [],
   "source": [
    "try:\n",
    "    path = './frases.txt'\n",
    "    archivo_escritura_abierto = open(path,mode=\"a\")\n",
    "    #a=append\n",
    "    #w=Write (sobre escribe)\n",
    "    archivo_escritura_abierto.write(\"Buenas madrugadas\\n\")\n",
    "    archivo_escritura_abierto.writelines(\n",
    "        [\"ABC\\n\",\"DEF\\n\"]\n",
    "    )\n",
    "    archivo_escritura_abierto.close()\n",
    "except Exception as error:\n",
    "    print('error')\n",
    "    "
   ]
  },
  {
   "cell_type": "code",
   "execution_count": null,
   "metadata": {},
   "outputs": [],
   "source": []
  },
  {
   "cell_type": "code",
   "execution_count": null,
   "metadata": {},
   "outputs": [],
   "source": []
  },
  {
   "cell_type": "code",
   "execution_count": null,
   "metadata": {},
   "outputs": [],
   "source": []
  },
  {
   "cell_type": "code",
   "execution_count": null,
   "metadata": {},
   "outputs": [],
   "source": []
  }
 ],
 "metadata": {
  "kernelspec": {
   "display_name": "Python 3",
   "language": "python",
   "name": "python3"
  },
  "language_info": {
   "codemirror_mode": {
    "name": "ipython",
    "version": 3
   },
   "file_extension": ".py",
   "mimetype": "text/x-python",
   "name": "python",
   "nbconvert_exporter": "python",
   "pygments_lexer": "ipython3",
   "version": "3.7.3"
  }
 },
 "nbformat": 4,
 "nbformat_minor": 2
}
