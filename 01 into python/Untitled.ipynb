{
 "cells": [
  {
   "cell_type": "code",
   "execution_count": 1,
   "metadata": {},
   "outputs": [
    {
     "name": "stdout",
     "output_type": "stream",
     "text": [
      "hola mundo\n"
     ]
    }
   ],
   "source": [
    "print(\"hola mundo\")"
   ]
  },
  {
   "cell_type": "code",
   "execution_count": 2,
   "metadata": {},
   "outputs": [
    {
     "name": "stdout",
     "output_type": "stream",
     "text": [
      "<class 'int'>\n",
      "<class 'float'>\n",
      "<class 'str'>\n",
      "<class 'str'>\n",
      "<class 'bool'>\n",
      "<class 'bool'>\n",
      "<class 'NoneType'>\n"
     ]
    }
   ],
   "source": [
    "## variables primitivas\n",
    "entero = 3\n",
    "decimal = 1.1\n",
    "nombre = \"Angel\"\n",
    "segundo_nombre = 'Daniel'\n",
    "casado = False\n",
    "profesor = True\n",
    "hijos = None\n",
    "print(type(entero))  # int\n",
    "print(type(decimal))  # float\n",
    "print(type(nombre))  # str\n",
    "print(type(segundo_nombre))  # str\n",
    "print(type(casado))  # bool\n",
    "print(type(profesor))  # bool\n",
    "print(type(hijos))  # NoneType\n",
    "\n",
    "texto = \"\"\"\n",
    "hhffhthththtth\n",
    "thththththth\n",
    "ththjyjjyjyjyj\n",
    "yjyjyjyj jyjjyjy\n",
    "\"\"\""
   ]
  },
  {
   "cell_type": "code",
   "execution_count": 3,
   "metadata": {},
   "outputs": [
    {
     "name": "stdout",
     "output_type": "stream",
     "text": [
      "3\n",
      "1.1\n"
     ]
    }
   ],
   "source": [
    "print(entero)\n",
    "entero = decimal\n",
    "entero = hijos\n",
    "entero = casado\n",
    "entero = nombre\n",
    "print(entero)"
   ]
  },
  {
   "cell_type": "code",
   "execution_count": 16,
   "metadata": {},
   "outputs": [
    {
     "name": "stdout",
     "output_type": "stream",
     "text": [
      "<class 'tuple'>\n",
      "<class 'list'>\n",
      "<class 'dict'>\n",
      "Falsy\n",
      "Truty\n",
      "Falsy\n",
      "Truty\n",
      "Truty\n",
      "Falsy\n",
      "Truty\n",
      "Falsy\n",
      "Falsy\n",
      "Truty\n",
      "Falsy\n",
      "Truty\n",
      "Falsy\n",
      "Truty\n"
     ]
    }
   ],
   "source": [
    "# Condicion (Boolean)\n",
    "# Truty\n",
    "# Falsy\n",
    "tuplas = ()\n",
    "listas = []\n",
    "diccionario = {}\n",
    "print(type(tuplas))  # tuple\n",
    "print(type(listas))  # list\n",
    "print(type(diccionario))  # dict\n",
    "\n",
    "if(\"\"):  # Falsy\n",
    "    print(\"Truty\")\n",
    "else:\n",
    "    print(\"Falsy\")\n",
    "\n",
    "if(\"a\"):  # Truty\n",
    "    print(\"Truty\")\n",
    "else:\n",
    "    print(\"Falsy\")\n",
    "    \n",
    "if(0):  # Falsy\n",
    "    print(\"Truty\")\n",
    "else:\n",
    "    print(\"Falsy\")\n",
    "    \n",
    "if(-1):  # Truty\n",
    "    print(\"Truty\")\n",
    "else:\n",
    "    print(\"Falsy\")\n",
    "    \n",
    "if(1):  # Truty\n",
    "    print(\"Truty\")\n",
    "else:\n",
    "    print(\"Falsy\")\n",
    "    \n",
    "if(0.00):  # Falsy\n",
    "    print(\"Truty\")\n",
    "else:\n",
    "    print(\"Falsy\")\n",
    "    \n",
    "if(0.01):  # Truty\n",
    "    print(\"Truty\")\n",
    "else:\n",
    "    print(\"Falsy\")\n",
    "    \n",
    "if(None):  # Falsy\n",
    "    print(\"Truty\")\n",
    "else:\n",
    "    print(\"Falsy\")\n",
    "    \n",
    "if(()):  # Falsy\n",
    "    print(\"Truty\")\n",
    "else:\n",
    "    print(\"Falsy\")\n",
    "    \n",
    "if((1,2)):  # Truty\n",
    "    print(\"Truty\")\n",
    "else:\n",
    "    print(\"Falsy\")\n",
    "    \n",
    "if([]):  # Falsy\n",
    "    print(\"Truty\")\n",
    "else:\n",
    "    print(\"Falsy\")\n",
    "    \n",
    "if([\"a\",\"b\"]):  # Truty\n",
    "    print(\"Truty\")\n",
    "else:\n",
    "    print(\"Falsy\")\n",
    "    \n",
    "if({}):  # Falsy\n",
    "    print(\"Truty\")\n",
    "else:\n",
    "    print(\"Falsy\")\n",
    "    \n",
    "if({nombre:\"Angel\"}):  # Truty\n",
    "    print(\"Truty\")\n",
    "else:\n",
    "    print(\"Falsy\")"
   ]
  },
  {
   "cell_type": "code",
   "execution_count": 18,
   "metadata": {},
   "outputs": [],
   "source": [
    "arreglo = [1, 2, 3, 4, 5, 6, 7, 8, 9, 10]"
   ]
  },
  {
   "cell_type": "code",
   "execution_count": 29,
   "metadata": {},
   "outputs": [
    {
     "data": {
      "text/plain": [
       "[1, 2, 3, 4, 5, 6, 7, 8, 9, 10]"
      ]
     },
     "execution_count": 29,
     "metadata": {},
     "output_type": "execute_result"
    }
   ],
   "source": [
    "arreglo[2:5]  # filtrar ([2, 5[)\n",
    "arreglo[2:]\n",
    "arreglo[:7]\n",
    "arreglo[-1]\n",
    "arreglo[2:-1]  # filtrar ([2, -1[)\n",
    "arreglo[-8:-1]\n",
    "arreglo[-9:]\n",
    "arreglo[:-2]\n",
    "arreglo[:]"
   ]
  },
  {
   "cell_type": "code",
   "execution_count": 30,
   "metadata": {},
   "outputs": [
    {
     "name": "stdout",
     "output_type": "stream",
     "text": [
      "<class 'bool'>\n",
      "True\n"
     ]
    }
   ],
   "source": [
    "print(type(7 in arreglo))\n",
    "print(7 in arreglo)"
   ]
  },
  {
   "cell_type": "code",
   "execution_count": 31,
   "metadata": {},
   "outputs": [
    {
     "data": {
      "text/plain": [
       "10"
      ]
     },
     "execution_count": 31,
     "metadata": {},
     "output_type": "execute_result"
    }
   ],
   "source": [
    "len(arreglo) #10"
   ]
  },
  {
   "cell_type": "code",
   "execution_count": 36,
   "metadata": {},
   "outputs": [
    {
     "data": {
      "text/plain": [
       "[1, 1.1, 2, 3, 4, 5, 6, 7, 8, 9, 10, 11]"
      ]
     },
     "execution_count": 36,
     "metadata": {},
     "output_type": "execute_result"
    }
   ],
   "source": [
    "# arreglo.append(11)\n",
    "# arreglo.pop()\n",
    "arreglo.insert(1, 1.1)\n",
    "arreglo"
   ]
  },
  {
   "cell_type": "code",
   "execution_count": 38,
   "metadata": {},
   "outputs": [
    {
     "name": "stdout",
     "output_type": "stream",
     "text": [
      "1\n",
      "1.1\n",
      "2\n",
      "3\n",
      "4\n",
      "5\n",
      "6\n",
      "7\n",
      "8\n",
      "9\n",
      "10\n",
      "11\n",
      "0\n",
      "1\n",
      "2\n",
      "3\n",
      "4\n",
      "5\n",
      "6\n",
      "7\n",
      "8\n",
      "9\n"
     ]
    }
   ],
   "source": [
    "for numero in arreglo:\n",
    "    print(numero)\n",
    "    \n",
    "contador = 0\n",
    "while contador < 10:\n",
    "    print(contador)\n",
    "    contador += 1"
   ]
  },
  {
   "cell_type": "code",
   "execution_count": 39,
   "metadata": {},
   "outputs": [
    {
     "data": {
      "text/plain": [
       "(1, 2, 3, 4, 5)"
      ]
     },
     "execution_count": 39,
     "metadata": {},
     "output_type": "execute_result"
    }
   ],
   "source": [
    "tupla_numeros = (1,2,3,4,5)\n",
    "tupla_numeros"
   ]
  },
  {
   "cell_type": "code",
   "execution_count": 41,
   "metadata": {},
   "outputs": [
    {
     "data": {
      "text/plain": [
       "True"
      ]
     },
     "execution_count": 41,
     "metadata": {},
     "output_type": "execute_result"
    }
   ],
   "source": [
    "tupla_numeros[0:3]\n",
    "len(tupla_numeros)\n",
    "3 in tupla_numeros"
   ]
  },
  {
   "cell_type": "code",
   "execution_count": 49,
   "metadata": {},
   "outputs": [
    {
     "data": {
      "text/plain": [
       "{'Angel': 'Angel',\n",
       " 'apellido': 'Yanez',\n",
       " 'edad': 30,\n",
       " None: None,\n",
       " False: False,\n",
       " 'mascotas': [{'Angel': 'cachetes'}],\n",
       " 'sueldo': 1.23}"
      ]
     },
     "execution_count": 49,
     "metadata": {},
     "output_type": "execute_result"
    }
   ],
   "source": [
    "angel = {\n",
    "    nombre:\"Angel\",\n",
    "    \"apellido\":'Yanez',\n",
    "    'edad':30,\n",
    "    hijos: None,\n",
    "    casado: False,\n",
    "    \"mascotas\": [{nombre:\"cachetes\"}],\n",
    "    'sueldo':1.23\n",
    "}\n",
    "angel"
   ]
  },
  {
   "cell_type": "code",
   "execution_count": 57,
   "metadata": {},
   "outputs": [
    {
     "data": {
      "text/plain": [
       "False"
      ]
     },
     "execution_count": 57,
     "metadata": {},
     "output_type": "execute_result"
    }
   ],
   "source": [
    "angel[\"apellido\"]\n",
    "angel[\"mascotas\"][0][nombre]\n",
    "angel.keys()\n",
    "\"apellido\" in angel.keys()\n",
    "# angel.values()\n",
    "\n",
    "1 == 1 or 2 == 3 # True\n",
    "1 == 1 and 2 == 3 # False"
   ]
  },
  {
   "cell_type": "code",
   "execution_count": null,
   "metadata": {},
   "outputs": [],
   "source": []
  }
 ],
 "metadata": {
  "kernelspec": {
   "display_name": "Python 3",
   "language": "python",
   "name": "python3"
  },
  "language_info": {
   "codemirror_mode": {
    "name": "ipython",
    "version": 3
   },
   "file_extension": ".py",
   "mimetype": "text/x-python",
   "name": "python",
   "nbconvert_exporter": "python",
   "pygments_lexer": "ipython3",
   "version": "3.7.3"
  }
 },
 "nbformat": 4,
 "nbformat_minor": 2
}
